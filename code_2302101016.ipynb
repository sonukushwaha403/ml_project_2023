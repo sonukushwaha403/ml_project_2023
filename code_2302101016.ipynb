{
 "cells": [
  {
   "cell_type": "markdown",
   "metadata": {
    "_cell_guid": "e084e610-8128-4769-ab64-6aa194044892",
    "_uuid": "20c011dd401be7b6448c43f965e5d0bf548c53b9",
    "id": "nbnQgsWJxNh1"
   },
   "source": [
    "#  Text Generation using LSTMs\n",
    "\n",
    "### Generating News headlines\n",
    "\n",
    "\n",
    "import the required libraries:"
   ]
  },
  {
   "cell_type": "code",
   "execution_count": 18,
   "metadata": {
    "_cell_guid": "b1076dfc-b9ad-4769-8c92-a6c4dae69d19",
    "_uuid": "8f2839f25d086af736a60e9eeb907d3b93b6e0e5",
    "id": "5GcHLf2GxNh3"
   },
   "outputs": [],
   "source": [
    "# keras module for building LSTM\n",
    "from keras.preprocessing.sequence import pad_sequences\n",
    "from keras.layers import Embedding, LSTM, Dense, Dropout\n",
    "from keras.preprocessing.text import Tokenizer\n",
    "from keras.callbacks import EarlyStopping\n",
    "from keras.models import Sequential\n",
    "import keras.utils as ku\n",
    "\n",
    "\n",
    "import tensorflow as tf\n",
    "tf.random.set_seed(2)\n",
    "from numpy.random import seed\n",
    "seed(1)\n",
    "\n",
    "#data manupulation libraries\n",
    "import pandas as pd\n",
    "import numpy as np\n",
    "import string, os\n",
    "\n",
    "import warnings\n",
    "warnings.filterwarnings(\"ignore\")\n",
    "warnings.simplefilter(action='ignore', category=FutureWarning)"
   ]
  },
  {
   "cell_type": "markdown",
   "metadata": {
    "_cell_guid": "79c7e3d0-c299-4dcb-8224-4455121ee9b0",
    "_uuid": "d629ff2d2480ee46fbb7e2d37f6b5fab8052498a",
    "id": "elyk1aWhxNh4"
   },
   "source": [
    "## 2. Load the dataset\n",
    "\n",
    "Load the dataset of news headlines"
   ]
  },
  {
   "cell_type": "code",
   "execution_count": 19,
   "metadata": {
    "colab": {
     "base_uri": "https://localhost:8080/"
    },
    "executionInfo": {
     "elapsed": 30217,
     "status": "ok",
     "timestamp": 1699098613969,
     "user": {
      "displayName": "Sonu Kumar Kushwaha",
      "userId": "10016895171314901682"
     },
     "user_tz": -330
    },
    "id": "qoCaMgUPyRU-",
    "outputId": "13d09ece-129a-4f8d-b7da-da25a178e4d3"
   },
   "outputs": [],
   "source": [
    "# from google.colab import drive\n",
    "# drive.mount('/content/drive')\n"
   ]
  },
  {
   "cell_type": "code",
   "execution_count": 20,
   "metadata": {
    "id": "YENA6yIC0jK4"
   },
   "outputs": [],
   "source": [
    "# import os\n",
    "# os.chdir('/content/drive/MyDrive/')"
   ]
  },
  {
   "cell_type": "code",
   "execution_count": 21,
   "metadata": {
    "colab": {
     "base_uri": "https://localhost:8080/"
    },
    "executionInfo": {
     "elapsed": 5,
     "status": "ok",
     "timestamp": 1698730082450,
     "user": {
      "displayName": "Sonu Kumar Kushwaha",
      "userId": "10016895171314901682"
     },
     "user_tz": -330
    },
    "id": "Xm9pWtLt0mA5",
    "outputId": "97485ee0-fcda-41cd-effb-38e6bd4334b9"
   },
   "outputs": [],
   "source": [
    "# !pwd"
   ]
  },
  {
   "cell_type": "code",
   "execution_count": 22,
   "metadata": {
    "_cell_guid": "b8ef1429-ff19-4a6c-92d7-af8cc61c55f7",
    "_uuid": "87836e3adbe046dd0db62013491ba62bae93b6be",
    "colab": {
     "base_uri": "https://localhost:8080/"
    },
    "executionInfo": {
     "elapsed": 8,
     "status": "ok",
     "timestamp": 1698730085148,
     "user": {
      "displayName": "Sonu Kumar Kushwaha",
      "userId": "10016895171314901682"
     },
     "user_tz": -330
    },
    "id": "ttZWnk_hxNh5",
    "outputId": "87a9d84d-6450-45dc-d209-d6eb81fce250"
   },
   "outputs": [
    {
     "data": {
      "text/plain": [
       "831"
      ]
     },
     "execution_count": 22,
     "metadata": {},
     "output_type": "execute_result"
    }
   ],
   "source": [
    "curr_dir = './archive/'\n",
    "all_headlines = []\n",
    "for filename in os.listdir(curr_dir):\n",
    "    if 'Articles' in filename:\n",
    "        article_df = pd.read_csv(curr_dir + filename)\n",
    "        all_headlines.extend(list(article_df.headline.values))\n",
    "        break\n",
    "\n",
    "all_headlines = [h for h in all_headlines if h != \"Unknown\"]\n",
    "len(all_headlines)"
   ]
  },
  {
   "cell_type": "markdown",
   "metadata": {
    "_cell_guid": "9dbd8bc9-fb61-43b9-b0c4-98bd7f3f8150",
    "_uuid": "fda5d4868631d3618d4d9a9a863541b2faf121c0",
    "id": "4IqVmqUExNh5"
   },
   "source": [
    "## 3. Dataset preparation/cleaning"
   ]
  },
  {
   "cell_type": "code",
   "execution_count": 6,
   "metadata": {
    "_cell_guid": "b8bf84ed-da11-4f89-a584-9dceea677420",
    "_uuid": "2a07365a27a7ba2f92fc9ba4d05d8e6254a68d8c",
    "colab": {
     "base_uri": "https://localhost:8080/"
    },
    "executionInfo": {
     "elapsed": 454,
     "status": "ok",
     "timestamp": 1698730090715,
     "user": {
      "displayName": "Sonu Kumar Kushwaha",
      "userId": "10016895171314901682"
     },
     "user_tz": -330
    },
    "id": "ypyIRuTkxNh5",
    "outputId": "9dcfc152-3067-4ebf-f134-80c26bae436a"
   },
   "outputs": [
    {
     "data": {
      "text/plain": [
       "['finding an expansive view  of a forgotten people in niger',\n",
       " 'and now  the dreaded trump curse',\n",
       " 'venezuelas descent into dictatorship',\n",
       " 'stain permeates basketball blue blood',\n",
       " 'taking things for granted',\n",
       " 'the caged beast awakens',\n",
       " 'an everunfolding story',\n",
       " 'oreilly thrives as settlements add up',\n",
       " 'mouse infestation',\n",
       " 'divide in gop now threatens trump tax plan']"
      ]
     },
     "execution_count": 6,
     "metadata": {},
     "output_type": "execute_result"
    }
   ],
   "source": [
    "def clean_text(txt):\n",
    "    txt = \"\".join(v for v in txt if v not in string.punctuation).lower()\n",
    "    txt = txt.encode(\"utf8\").decode(\"ascii\",'ignore')\n",
    "    return txt\n",
    "\n",
    "corpus = [clean_text(x) for x in all_headlines]\n",
    "corpus[:10]"
   ]
  },
  {
   "cell_type": "markdown",
   "metadata": {
    "_cell_guid": "9d83cc08-19ba-4b00-9ca6-dcf5ff39c8af",
    "_uuid": "6fd11859fd71aa5c7ce10bdbbd31c8eb6d1b3118",
    "id": "K4i2oYIXxNh5"
   },
   "source": [
    "### Creating Sequence of N-gram Tokens \n"
   ]
  },
  {
   "cell_type": "code",
   "execution_count": 7,
   "metadata": {
    "_cell_guid": "896543c9-7944-4748-b8ef-ef8cbc2a84f0",
    "_uuid": "9129a8b773feb72eff91aa0025157a173d10c625",
    "colab": {
     "base_uri": "https://localhost:8080/"
    },
    "executionInfo": {
     "elapsed": 443,
     "status": "ok",
     "timestamp": 1698730098519,
     "user": {
      "displayName": "Sonu Kumar Kushwaha",
      "userId": "10016895171314901682"
     },
     "user_tz": -330
    },
    "id": "fuaqmWkjxNh6",
    "outputId": "e61131d7-d013-4650-bf1f-636e07df37e9"
   },
   "outputs": [
    {
     "data": {
      "text/plain": [
       "[[169, 17],\n",
       " [169, 17, 665],\n",
       " [169, 17, 665, 367],\n",
       " [169, 17, 665, 367, 4],\n",
       " [169, 17, 665, 367, 4, 2],\n",
       " [169, 17, 665, 367, 4, 2, 666],\n",
       " [169, 17, 665, 367, 4, 2, 666, 170],\n",
       " [169, 17, 665, 367, 4, 2, 666, 170, 5],\n",
       " [169, 17, 665, 367, 4, 2, 666, 170, 5, 667],\n",
       " [6, 80]]"
      ]
     },
     "execution_count": 7,
     "metadata": {},
     "output_type": "execute_result"
    }
   ],
   "source": [
    "tokenizer = Tokenizer()\n",
    "\n",
    "def get_sequence_of_tokens(corpus):\n",
    "    ## tokenization\n",
    "    tokenizer.fit_on_texts(corpus)\n",
    "    total_words = len(tokenizer.word_index) + 1\n",
    "\n",
    "    ## convert data to sequence of tokens\n",
    "    input_sequences = []\n",
    "    for line in corpus:\n",
    "        token_list = tokenizer.texts_to_sequences([line])[0]\n",
    "        for i in range(1, len(token_list)):\n",
    "            n_gram_sequence = token_list[:i+1]\n",
    "            input_sequences.append(n_gram_sequence)\n",
    "    return input_sequences, total_words\n",
    "\n",
    "inp_sequences, total_words = get_sequence_of_tokens(corpus)\n",
    "inp_sequences[:10]"
   ]
  },
  {
   "cell_type": "markdown",
   "metadata": {
    "_cell_guid": "a22c88f5-f2a3-457c-835b-63341e657e3f",
    "_uuid": "f22aa5e0c04620ca5034ab9389322eee543060c6",
    "id": "99NpakWCxNh6"
   },
   "source": [
    "Here the increasing size of the list represents the ngram phrases generated from the input data. where every integer corresponds to the index of a particular word in the complete vocabulary of words present in the text. For example\n",
    "\n",
    "**Headline:** i stand  with the shedevils  \n",
    "**Ngrams:** | **Sequence of Tokens**\n",
    "\n",
    "{i stand --> [30, 507]}  \n",
    "{i stand with --> [30, 507, 11]}  \n",
    "{i stand with the --> [30, 507, 11, 1]}  \n",
    "{i stand with the shedevils --> [30, 507, 11, 1, 975]}  \n",
    " \n",
    "\n",
    "\n",
    "\n",
    "### Padding the Sequences and obtain Variables : Predictors and Target\n",
    "\n",
    " \n",
    "\n",
    "\n",
    "Headline:  they are learning data science\n",
    "\n",
    "\n",
    " PREDICTORS -->          LABEL  \n",
    "they -->                     are  \n",
    "they are -->                 learning  \n",
    "they are learning -->        data  \n",
    "they are learning data -->   science  \n"
   ]
  },
  {
   "cell_type": "code",
   "execution_count": 23,
   "metadata": {
    "_cell_guid": "73254551-40bd-45b1-a7a5-88fe4cbe0b20",
    "_uuid": "ca588b414e70e21bebcead960f6632805d37dd8c",
    "id": "jEcY4r5ZxNh6"
   },
   "outputs": [],
   "source": [
    "def generate_padded_sequences(input_sequences):\n",
    "    max_sequence_len = max([len(x) for x in input_sequences])\n",
    "    input_sequences = np.array(pad_sequences(input_sequences, maxlen=max_sequence_len, padding='pre'))\n",
    "\n",
    "    predictors, label = input_sequences[:,:-1],input_sequences[:,-1]\n",
    "    label = ku.to_categorical(label, num_classes=total_words)\n",
    "    return predictors, label, max_sequence_len\n",
    "\n",
    "predictors, label, max_sequence_len = generate_padded_sequences(inp_sequences)"
   ]
  },
  {
   "cell_type": "markdown",
   "metadata": {
    "_cell_guid": "8b5d80ff-54a8-4380-8a3c-149be880551d",
    "_uuid": "8b8a64b96011f427c48d5b0819e3e74af604ce43",
    "id": "Bz2EZ715xNh7"
   },
   "source": [
    "Perfect, now we can obtain the input vector X and the label vector Y which can be used for the training purposes. Recent experiments have shown that recurrent neural networks have shown a good performance in sequence to sequence learning and text data applications. Lets look at them in brief.\n",
    "\n",
    "## 4. LSTMs for Text Generation\n",
    "\n",
    "![](https://static.packt-cdn.com/products/9781788997096/graphics/assets/19f1c280-e0c8-475d-82e1-c2bd83f4cf7b.png)\n",
    "\n",
    " "
   ]
  },
  {
   "cell_type": "code",
   "execution_count": 24,
   "metadata": {
    "_cell_guid": "60d6721e-e40e-4f2b-8f63-c06459d68f26",
    "_uuid": "76ef6d9352002d333a7c75e8aed7ce996015f527",
    "colab": {
     "base_uri": "https://localhost:8080/"
    },
    "executionInfo": {
     "elapsed": 779,
     "status": "ok",
     "timestamp": 1698730104849,
     "user": {
      "displayName": "Sonu Kumar Kushwaha",
      "userId": "10016895171314901682"
     },
     "user_tz": -330
    },
    "id": "0nNNwDxOxNh7",
    "outputId": "43579da5-bb67-44a5-a14e-e729374ca401"
   },
   "outputs": [
    {
     "name": "stdout",
     "output_type": "stream",
     "text": [
      "Model: \"sequential_1\"\n",
      "_________________________________________________________________\n",
      " Layer (type)                Output Shape              Param #   \n",
      "=================================================================\n",
      " embedding_1 (Embedding)     (None, 18, 10)            24220     \n",
      "                                                                 \n",
      " lstm_1 (LSTM)               (None, 100)               44400     \n",
      "                                                                 \n",
      " dropout_1 (Dropout)         (None, 100)               0         \n",
      "                                                                 \n",
      " dense_1 (Dense)             (None, 2422)              244622    \n",
      "                                                                 \n",
      "=================================================================\n",
      "Total params: 313242 (1.19 MB)\n",
      "Trainable params: 313242 (1.19 MB)\n",
      "Non-trainable params: 0 (0.00 Byte)\n",
      "_________________________________________________________________\n"
     ]
    }
   ],
   "source": [
    "def create_model(max_sequence_len, total_words):\n",
    "    input_len = max_sequence_len - 1\n",
    "    model = Sequential()\n",
    "\n",
    "    # Add Input Embedding Layer\n",
    "    model.add(Embedding(total_words, 10, input_length=input_len))\n",
    "\n",
    "    # Add Hidden Layer 1 - LSTM Layer\n",
    "    model.add(LSTM(100))\n",
    "    model.add(Dropout(0.1))\n",
    "\n",
    "    # Add Output Layer\n",
    "    model.add(Dense(total_words, activation='softmax'))\n",
    "\n",
    "    model.compile(loss='categorical_crossentropy', optimizer='adam')\n",
    "\n",
    "    return model\n",
    "\n",
    "model = create_model(max_sequence_len, total_words)\n",
    "model.summary()"
   ]
  },
  {
   "cell_type": "code",
   "execution_count": 10,
   "metadata": {
    "colab": {
     "base_uri": "https://localhost:8080/"
    },
    "executionInfo": {
     "elapsed": 19307,
     "status": "ok",
     "timestamp": 1699047631126,
     "user": {
      "displayName": "Sonu Kumar Kushwaha",
      "userId": "10016895171314901682"
     },
     "user_tz": -330
    },
    "id": "tNYJv75V_eYN",
    "outputId": "0584abad-2e3c-441a-f7e9-8bdd960d088f"
   },
   "outputs": [],
   "source": [
    "# from google.colab import drive\n",
    "# drive.mount('/content/drive')"
   ]
  },
  {
   "cell_type": "markdown",
   "metadata": {
    "_cell_guid": "1826aa1a-cb77-4379-a69d-e9b180945dce",
    "_uuid": "f0b16b471969dbb831cb0024e303341e11b63de4",
    "id": "MQ0ubKmMxNh7"
   },
   "source": [
    "Lets train our model now"
   ]
  },
  {
   "cell_type": "code",
   "execution_count": 11,
   "metadata": {
    "_cell_guid": "07d5cf03-d171-4993-9f8b-18446649ecb0",
    "_uuid": "156f3303b8120cc6932e6db985cbea4a7ceb08bf",
    "id": "f6MzSXAuxNh7"
   },
   "outputs": [
    {
     "name": "stdout",
     "output_type": "stream",
     "text": [
      "Epoch 1/100\n",
      "Epoch 2/100\n",
      "Epoch 3/100\n",
      "Epoch 4/100\n",
      "Epoch 5/100\n",
      "Epoch 6/100\n",
      "Epoch 7/100\n",
      "Epoch 8/100\n",
      "Epoch 9/100\n",
      "Epoch 10/100\n",
      "Epoch 11/100\n",
      "Epoch 12/100\n",
      "Epoch 13/100\n",
      "Epoch 14/100\n",
      "Epoch 15/100\n",
      "Epoch 16/100\n",
      "Epoch 17/100\n",
      "Epoch 18/100\n",
      "Epoch 19/100\n",
      "Epoch 20/100\n",
      "Epoch 21/100\n",
      "Epoch 22/100\n",
      "Epoch 23/100\n",
      "Epoch 24/100\n",
      "Epoch 25/100\n",
      "Epoch 26/100\n",
      "Epoch 27/100\n",
      "Epoch 28/100\n",
      "Epoch 29/100\n",
      "Epoch 30/100\n",
      "Epoch 31/100\n",
      "Epoch 32/100\n",
      "Epoch 33/100\n",
      "Epoch 34/100\n",
      "Epoch 35/100\n",
      "Epoch 36/100\n",
      "Epoch 37/100\n",
      "Epoch 38/100\n",
      "Epoch 39/100\n",
      "Epoch 40/100\n",
      "Epoch 41/100\n",
      "Epoch 42/100\n",
      "Epoch 43/100\n",
      "Epoch 44/100\n",
      "Epoch 45/100\n",
      "Epoch 46/100\n",
      "Epoch 47/100\n",
      "Epoch 48/100\n",
      "Epoch 49/100\n",
      "Epoch 50/100\n",
      "Epoch 51/100\n",
      "Epoch 52/100\n",
      "Epoch 53/100\n",
      "Epoch 54/100\n",
      "Epoch 55/100\n",
      "Epoch 56/100\n",
      "Epoch 57/100\n",
      "Epoch 58/100\n",
      "Epoch 59/100\n",
      "Epoch 60/100\n",
      "Epoch 61/100\n",
      "Epoch 62/100\n",
      "Epoch 63/100\n",
      "Epoch 64/100\n",
      "Epoch 65/100\n",
      "Epoch 66/100\n",
      "Epoch 67/100\n",
      "Epoch 68/100\n",
      "Epoch 69/100\n",
      "Epoch 70/100\n",
      "Epoch 71/100\n",
      "Epoch 72/100\n",
      "Epoch 73/100\n",
      "Epoch 74/100\n",
      "Epoch 75/100\n",
      "Epoch 76/100\n",
      "Epoch 77/100\n",
      "Epoch 78/100\n",
      "Epoch 79/100\n",
      "Epoch 80/100\n",
      "Epoch 81/100\n",
      "Epoch 82/100\n",
      "Epoch 83/100\n",
      "Epoch 84/100\n",
      "Epoch 85/100\n",
      "Epoch 86/100\n",
      "Epoch 87/100\n",
      "Epoch 88/100\n",
      "Epoch 89/100\n",
      "Epoch 90/100\n",
      "Epoch 91/100\n",
      "Epoch 92/100\n",
      "Epoch 93/100\n",
      "Epoch 94/100\n",
      "Epoch 95/100\n",
      "Epoch 96/100\n",
      "Epoch 97/100\n",
      "Epoch 98/100\n",
      "Epoch 99/100\n",
      "Epoch 100/100\n"
     ]
    },
    {
     "data": {
      "text/plain": [
       "<keras.src.callbacks.History at 0x29bb422d050>"
      ]
     },
     "execution_count": 11,
     "metadata": {},
     "output_type": "execute_result"
    }
   ],
   "source": [
    "model.fit(predictors, label, epochs=100, verbose=5)"
   ]
  },
  {
   "cell_type": "code",
   "execution_count": 14,
   "metadata": {},
   "outputs": [
    {
     "data": {
      "text/plain": [
       "[<matplotlib.lines.Line2D at 0x29bb55d8650>]"
      ]
     },
     "execution_count": 14,
     "metadata": {},
     "output_type": "execute_result"
    },
    {
     "data": {
      "image/png": "[encoded data removed]",
      "text/plain": [
       "<Figure size 640x480 with 1 Axes>"
      ]
     },
     "metadata": {},
     "output_type": "display_data"
    }
   ],
   "source": [
    "import matplotlib.pyplot as plt\n",
    "loss=model.history.history['loss']\n",
    "plt.plot(loss) "
   ]
  },
  {
   "cell_type": "code",
   "execution_count": 11,
   "metadata": {
    "id": "UUKs6qe4QutB"
   },
   "outputs": [],
   "source": [
    "# import keras\n",
    "# model.save('my_trained_model.h5')\n"
   ]
  },
  {
   "cell_type": "code",
   "execution_count": 25,
   "metadata": {},
   "outputs": [],
   "source": [
    "loaded_model = keras.models.load_model('my_trained_model.h5')"
   ]
  },
  {
   "cell_type": "markdown",
   "metadata": {
    "_cell_guid": "61e99cfe-7395-4d61-8d1a-8539103d3db5",
    "_uuid": "448bf43b123060dfe4e27cb9f12889e4fe0ed2a7",
    "id": "3mfy4E_exNh7"
   },
   "source": [
    "## 5. Generating the text\n",
    "\n",
    "Great, our model architecture is now ready and we can train it using our data. Next lets write the function to predict the next word based on the input words (or seed text). We will first tokenize the seed text, pad the sequences and pass into the trained model to get predicted word. The multiple predicted words can be appended together to get predicted sequence.\n"
   ]
  },
  {
   "cell_type": "code",
   "execution_count": 13,
   "metadata": {
    "id": "KwQITywP826K"
   },
   "outputs": [],
   "source": [
    "def generate_text(seed_text, next_words, loaded_model, max_sequence_len):\n",
    "    for _ in range(next_words):\n",
    "        token_list = tokenizer.texts_to_sequences([seed_text])[0]\n",
    "        token_list = pad_sequences([token_list], maxlen=max_sequence_len-1, padding='pre')\n",
    "        predicted_probs = loaded_model.predict(token_list, verbose=0)[0]  # Get the predicted word probabilities\n",
    "\n",
    "        # Find the index of the word with the highest probability\n",
    "        predicted_index = np.argmax(predicted_probs)\n",
    "\n",
    "        output_word = \"\"\n",
    "        for word, index in tokenizer.word_index.items():\n",
    "            if index == predicted_index:\n",
    "                output_word = word\n",
    "                break\n",
    "        seed_text += \" \" + output_word\n",
    "    return seed_text.title()\n"
   ]
  },
  {
   "cell_type": "code",
   "execution_count": 15,
   "metadata": {},
   "outputs": [],
   "source": [
    "#  Generate news headlines\n",
    "generated_headlines = []\n",
    "for _ in range(5):\n",
    "    generated_headlines.append(generate_text(\"united states\", 5, model, max_sequence_len))\n",
    "\n",
    "# Reference headlines (ground truth) - Replace with your reference headlines\n",
    "reference_headlines = [\"Reference headline 1\", \"Reference headline 2\", \"Reference headline 3\", \"Reference headline 4\", \"Reference headline 5\"]\n"
   ]
  },
  {
   "cell_type": "code",
   "execution_count": 22,
   "metadata": {},
   "outputs": [
    {
     "name": "stderr",
     "output_type": "stream",
     "text": [
      "[nltk_data] Downloading package punkt to\n",
      "[nltk_data]     C:\\Users\\skson\\AppData\\Roaming\\nltk_data...\n",
      "[nltk_data]   Package punkt is already up-to-date!\n"
     ]
    }
   ],
   "source": [
    " \n",
    "import numpy as np\n",
    "import math\n",
    "\n",
    "import nltk\n",
    "nltk.download('punkt')\n",
    "from nltk.translate.bleu_score import sentence_bleu\n",
    "\n",
    "def calculate_perplexity(generated_headlines):\n",
    "    tokenized_headlines = [nltk.word_tokenize(headline) for headline in generated_headlines]\n",
    "\n",
    "    total_log_prob = 0\n",
    "    total_words = 1  # Initialize total_words to 1 to avoid division by zero\n",
    "\n",
    "    for headline in tokenized_headlines:\n",
    "        for word in headline:\n",
    "            if word in tokenizer.word_index:\n",
    "                word_prob = word_count[word] / total_words\n",
    "                total_log_prob += math.log2(word_prob)\n",
    "            else:\n",
    "                # Handle unknown words\n",
    "                word_prob = 1 / total_words\n",
    "                total_log_prob += math.log2(word_prob)\n",
    "            total_words += 1\n",
    "\n",
    "    perplexity = math.pow(2, -total_log_prob / total_words)\n",
    "\n",
    "    return perplexity\n",
    "\n",
    "\n",
    "\n",
    "\n",
    "# Function to calculate BLEU score\n",
    "def calculate_bleu_score(generated_headlines, reference_headlines):\n",
    "    tokenized_generated = [nltk.word_tokenize(headline) for headline in generated_headlines]"
   ]
  },
  {
   "cell_type": "code",
   "execution_count": 23,
   "metadata": {},
   "outputs": [
    {
     "name": "stdout",
     "output_type": "stream",
     "text": [
      "Perplexity: 12.927259368788766\n",
      "BLEU Score: None\n"
     ]
    }
   ],
   "source": [
    "# perplexity = calculate_perplexity(generated_headlines, model)\n",
    "perplexity = calculate_perplexity(generated_headlines)\n",
    "\n",
    "# Calculate BLEU score\n",
    "bleu_score = calculate_bleu_score(generated_headlines, reference_headlines)\n",
    "\n",
    "# Print evaluation metrics\n",
    "print(\"Perplexity:\", perplexity)\n",
    "print(\"BLEU Score:\", bleu_score)"
   ]
  },
  {
   "cell_type": "code",
   "execution_count": 24,
   "metadata": {
    "_cell_guid": "e38dd280-093b-4091-b82b-9aa90045b107",
    "_kg_hide-input": true,
    "_uuid": "a21548224c9e661a29e3d369e348aada0599bdc9",
    "colab": {
     "base_uri": "https://localhost:8080/"
    },
    "executionInfo": {
     "elapsed": 4130,
     "status": "ok",
     "timestamp": 1699048371711,
     "user": {
      "displayName": "Sonu Kumar Kushwaha",
      "userId": "10016895171314901682"
     },
     "user_tz": -330
    },
    "id": "0Axguq32xNh8",
    "outputId": "8827d178-df01-48ba-b88c-62a32d589fc6"
   },
   "outputs": [
    {
     "name": "stdout",
     "output_type": "stream",
     "text": [
      "United States Control Would Aid Wealthiest Avoid\n",
      "Preident Trump Is Wimping As A\n",
      "Donald Trump Plays Is Skip Care\n",
      "India And China Legislate Have A Buddha\n",
      "New York Today A Belated Budget\n",
      "Science And Technology Be Mindful While Cleaning The\n"
     ]
    }
   ],
   "source": [
    "print (generate_text(\"united states\", 5, loaded_model, max_sequence_len))\n",
    "print (generate_text(\"preident trump\", 4, loaded_model, max_sequence_len))\n",
    "print (generate_text(\"donald trump\", 4, loaded_model, max_sequence_len))\n",
    "print (generate_text(\"india and china\", 4, loaded_model, max_sequence_len))\n",
    "print (generate_text(\"new york\", 4, loaded_model, max_sequence_len))\n",
    "print (generate_text(\"science and technology\", 5, loaded_model, max_sequence_len))"
   ]
  }
 ],
 "metadata": {
  "colab": {
   "provenance": []
  },
  "kernelspec": {
   "display_name": "Python 3 (ipykernel)",
   "language": "python",
   "name": "python3"
  },
  "language_info": {
   "codemirror_mode": {
    "name": "ipython",
    "version": 3
   },
   "file_extension": ".py",
   "mimetype": "text/x-python",
   "name": "python",
   "nbconvert_exporter": "python",
   "pygments_lexer": "ipython3",
   "version": "3.11.3"
  }
 },
 "nbformat": 4,
 "nbformat_minor": 1
}
